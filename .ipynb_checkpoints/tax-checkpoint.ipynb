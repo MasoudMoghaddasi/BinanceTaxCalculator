{
 "cells": [
  {
   "cell_type": "code",
   "execution_count": null,
   "id": "a215a3fc",
   "metadata": {
    "pycharm": {
     "name": "#%%\n"
    }
   },
   "outputs": [],
   "source": [
    "from datetime import datetime\n",
    "import pandas as pd\n",
    "import requests\n",
    "import numpy as np\n",
    "from forex_python.converter import get_rate"
   ]
  },
  {
   "cell_type": "markdown",
   "id": "ce022f8b",
   "metadata": {
    "pycharm": {
     "name": "#%% md\n"
    }
   },
   "source": [
    "# Binance"
   ]
  },
  {
   "cell_type": "code",
   "execution_count": null,
   "id": "037a08b0",
   "metadata": {
    "pycharm": {
     "name": "#%%\n"
    }
   },
   "outputs": [],
   "source": [
    "data = pd.read_csv(r'.\\Binance.csv')"
   ]
  },
  {
   "cell_type": "code",
   "execution_count": null,
   "id": "a5e68f7a",
   "metadata": {
    "pycharm": {
     "name": "#%%\n"
    }
   },
   "outputs": [],
   "source": [
    "timestamps1 = [int(datetime.strptime(time, '%m/%d/%Y %H:%M').timestamp()*1000) for time in data.UTC_Time]\n",
    "timestamps2 = [time + 59999 for time in timestamps1]"
   ]
  },
  {
   "cell_type": "code",
   "execution_count": null,
   "id": "3d4e8ef8",
   "metadata": {
    "pycharm": {
     "name": "#%%\n"
    }
   },
   "outputs": [],
   "source": [
    "i = 10\n",
    "tick_interval = '1m'\n",
    "\n",
    "prices = []\n",
    "markets = []\n",
    "markets1 = []\n",
    "prices1 = []\n",
    "for i in range(len(timestamps1)):\n",
    "    price1 = '1'\n",
    "    market1 = 'None'\n",
    "    print(i)\n",
    "    if data.Coin[i] not in ['EUR', 'NFT']:\n",
    "        try:\n",
    "            market = data.Coin[i]+'EUR'\n",
    "            url = 'https://api.binance.com/api/v3/klines?symbol='+market+'&interval='+tick_interval+'&startTime='+str(timestamps1[i])+'&endTime='+str(timestamps2[i])\n",
    "            price = requests.get(url).json()[0][1]\n",
    "            \n",
    "        except:\n",
    "            try:\n",
    "                market = 'EUR'+data.Coin[i]\n",
    "                url = 'https://api.binance.com/api/v3/klines?symbol='+market+'&interval='+tick_interval+'&startTime='+str(timestamps1[i])+'&endTime='+str(timestamps2[i])\n",
    "                price = str(1/float(requests.get(url).json()[0][1]))\n",
    "                market = data.Coin[i]+'EUR'\n",
    "                \n",
    "            except:\n",
    "                try:\n",
    "                    market = data.Coin[i]+'USDT'\n",
    "                    market1 = 'EURUSDT'\n",
    "                    url = 'https://api.binance.com/api/v3/klines?symbol='+market+'&interval='+tick_interval+'&startTime='+str(timestamps1[i])+'&endTime='+str(timestamps2[i])\n",
    "                    price = requests.get(url).json()[0][1]\n",
    "                    \n",
    "                    url1 = 'https://api.binance.com/api/v3/klines?symbol=EURUSDT&interval='+tick_interval+'&startTime='+str(timestamps1[i])+'&endTime='+str(timestamps2[i])\n",
    "                    price1 = requests.get(url1).json()[0][1]\n",
    "                \n",
    "                except:\n",
    "                    try:\n",
    "                        market = data.Coin[i]+'BUSD'\n",
    "                        market1 = 'EURBUSD'\n",
    "                        url = 'https://api.binance.com/api/v3/klines?symbol='+market+'&interval='+tick_interval+'&startTime='+str(timestamps1[i])+'&endTime='+str(timestamps2[i])\n",
    "                        price = requests.get(url).json()[0][1]\n",
    "\n",
    "                        url1 = 'https://api.binance.com/api/v3/klines?symbol=EURBUSD&interval='+tick_interval+'&startTime='+str(timestamps1[i])+'&endTime='+str(timestamps2[i])\n",
    "                        price1 = requests.get(url1).json()[0][1]\n",
    "                        \n",
    "                    except:\n",
    "                        try:\n",
    "                            market = data.Coin[i] + 'BTC'\n",
    "                            market1 = 'EURBTC'\n",
    "                            url = 'https://api.binance.com/api/v3/klines?symbol='+market+'&interval='+tick_interval+'&startTime='+str(timestamps1[i])+'&endTime='+str(timestamps2[i])\n",
    "                            price = requests.get(url).json()[0][1]\n",
    "\n",
    "                            url1 = 'https://api.binance.com/api/v3/klines?symbol=BTCEUR&interval='+tick_interval+'&startTime='+str(timestamps1[i])+'&endTime='+str(timestamps2[i])\n",
    "                            price1 = str(1/float(requests.get(url1).json()[0][1]))\n",
    "                            \n",
    "                        except:\n",
    "                            market = data.Coin[i]+'USDT'\n",
    "                            market1 = 'EURUSDT'\n",
    "                            url = 'https://api.binance.com/api/v3/klines?symbol='+market+'&interval='+tick_interval+'&startTime='+str(timestamps1[i])\n",
    "                            price = requests.get(url).json()[0][1]\n",
    "\n",
    "                            url1 = 'https://api.binance.com/api/v3/klines?symbol=EURUSDT&interval='+tick_interval+'&startTime='+str(requests.get(url).json()[0][0])\n",
    "                            price1 = requests.get(url1).json()[0][1]\n",
    "\n",
    "                            print(requests.get(url).json()[0][0])\n",
    "                            print(requests.get(url1).json()[0][0])\n",
    "                            print(data.Coin[i])\n",
    "                            \n",
    "    elif data.Coin[i] == 'EUR':\n",
    "        price = '1'\n",
    "        market = 'EUR'\n",
    "    elif data.Coin[i] == 'NFT':\n",
    "        price = '0'\n",
    "        market = 'NFT'\n",
    "    prices.append(price)\n",
    "    prices1.append(price1)\n",
    "    markets.append(market)\n",
    "    markets1.append(market1)"
   ]
  },
  {
   "cell_type": "code",
   "execution_count": null,
   "id": "46a13a5a",
   "metadata": {
    "pycharm": {
     "name": "#%%\n"
    }
   },
   "outputs": [],
   "source": [
    "UnitPrices = [float(prices[i]) / float(prices1[i]) for i in range(len(prices))]\n",
    "totalPrices = [UnitPrices[i] * float(data.Change[i]) for i in range(len(prices)) ]"
   ]
  },
  {
   "cell_type": "code",
   "execution_count": null,
   "id": "a76582e1",
   "metadata": {
    "pycharm": {
     "name": "#%%\n"
    }
   },
   "outputs": [],
   "source": [
    "data1 = pd.DataFrame({'Unit Prices': UnitPrices, 'Total Price (EUR)': totalPrices})"
   ]
  },
  {
   "cell_type": "code",
   "execution_count": null,
   "id": "90cb7765",
   "metadata": {
    "pycharm": {
     "name": "#%%\n"
    }
   },
   "outputs": [],
   "source": [
    "Data = pd.concat([data, data1], axis=1)"
   ]
  },
  {
   "cell_type": "code",
   "execution_count": null,
   "id": "4a06d7e6",
   "metadata": {
    "pycharm": {
     "name": "#%%\n"
    }
   },
   "outputs": [],
   "source": [
    "Data.to_csv(r'.\\Binance EUR.csv')"
   ]
  },
  {
   "cell_type": "code",
   "execution_count": null,
   "id": "9350ba54",
   "metadata": {
    "pycharm": {
     "name": "#%%\n"
    }
   },
   "outputs": [],
   "source": [
    "Data=pd.read_csv(r'.\\Binance EUR.csv')"
   ]
  },
  {
   "cell_type": "code",
   "execution_count": null,
   "id": "666966ee",
   "metadata": {
    "pycharm": {
     "name": "#%%\n"
    }
   },
   "outputs": [],
   "source": [
    "uniqueCoins = np.unique(Data.Coin)\n",
    "uniqueCoins"
   ]
  },
  {
   "cell_type": "code",
   "execution_count": null,
   "id": "f008ce28",
   "metadata": {
    "pycharm": {
     "name": "#%%\n"
    }
   },
   "outputs": [],
   "source": [
    "for i in uniqueCoins:\n",
    "    print(i +':   ', np.round(np.sum(Data.Change[Data.Coin==i]),10))"
   ]
  },
  {
   "cell_type": "code",
   "execution_count": null,
   "id": "9ddf4620",
   "metadata": {
    "pycharm": {
     "name": "#%%\n"
    }
   },
   "outputs": [],
   "source": [
    "for i in uniqueCoins:\n",
    "    print(i +':   ', np.round(np.sum(Data['Total Price (EUR)'][Data.Coin==i]),10))"
   ]
  },
  {
   "cell_type": "code",
   "execution_count": null,
   "id": "8cc3cfc4",
   "metadata": {
    "pycharm": {
     "name": "#%%\n"
    }
   },
   "outputs": [],
   "source": [
    "Data[\"UTC_Time\"] = pd.to_datetime(Data[\"UTC_Time\"], format='%m/%d/%Y %H:%M')\n",
    "Data = Data.sort_values(by=\"UTC_Time\")\n",
    "\n",
    "Data"
   ]
  },
  {
   "cell_type": "code",
   "execution_count": null,
   "id": "21eaea44",
   "metadata": {
    "pycharm": {
     "name": "#%%\n"
    }
   },
   "outputs": [],
   "source": [
    "ALL ={}\n",
    "\n",
    "for coin in uniqueCoins:\n",
    "    ALL[coin] ={'amount_buy': Data['Change'][(Data.Coin==coin) & (Data.Change>0)].to_list(),\n",
    "                'date_buy': Data['UTC_Time'][(Data.Coin==coin) & (Data.Change>0)].to_list(),\n",
    "                'price_buy': Data['Total Price (EUR)'][(Data.Coin==coin) & (Data.Change>0)].to_list(),\n",
    "                'amount_sell': Data['Change'][(Data.Coin==coin) & (Data.Change<0)].to_list(),\n",
    "                'date_sell': Data['UTC_Time'][(Data.Coin==coin) & (Data.Change<0)].to_list(),\n",
    "                'price_sell': Data['Total Price (EUR)'][(Data.Coin==coin) & (Data.Change<0)].to_list()}"
   ]
  },
  {
   "cell_type": "code",
   "execution_count": null,
   "id": "391b492c",
   "metadata": {
    "pycharm": {
     "name": "#%%\n"
    }
   },
   "outputs": [],
   "source": [
    "ALL"
   ]
  },
  {
   "cell_type": "code",
   "execution_count": null,
   "id": "89eda96c",
   "metadata": {
    "pycharm": {
     "name": "#%%\n"
    }
   },
   "outputs": [],
   "source": [
    "All_copy = ALL.copy()\n",
    "\n",
    "buy_date = []\n",
    "amount = []\n",
    "sell_date = []\n",
    "buy_price = []\n",
    "sell_price = []\n",
    "currency = []\n",
    "profit = []\n",
    "loss = []\n",
    "result = []\n",
    "for coin in uniqueCoins:\n",
    "    while (len(All_copy[coin]['amount_buy']) != 0) and (len(All_copy[coin]['amount_sell']) != 0):\n",
    "        buy_date.append(All_copy[coin]['date_buy'][0])\n",
    "        sell_date.append(All_copy[coin]['date_sell'][0])\n",
    "        currency.append(coin)\n",
    "        if All_copy[coin]['amount_buy'][0] <= abs(All_copy[coin]['amount_sell'][0]):\n",
    "            \n",
    "            amount.append(All_copy[coin]['amount_buy'][0])\n",
    "        \n",
    "            buy_price.append(np.round(All_copy[coin]['price_buy'][0],2))\n",
    "            \n",
    "            sellPricePortion = (All_copy[coin]['price_sell'][0] * \n",
    "                                All_copy[coin]['amount_buy'][0] / All_copy[coin]['amount_sell'][0])\n",
    "            \n",
    "            sell_price.append(np.round(sellPricePortion,2))\n",
    "            \n",
    "            All_copy[coin]['amount_sell'][0] += All_copy[coin]['amount_buy'][0]\n",
    "            All_copy[coin]['price_sell'][0] += sellPricePortion\n",
    "            \n",
    "            if All_copy[coin]['amount_sell'][0] == 0:\n",
    "                del All_copy[coin]['amount_sell'][0]\n",
    "                del All_copy[coin]['price_sell'][0]\n",
    "                del All_copy[coin]['date_sell'][0]\n",
    "            del All_copy[coin]['amount_buy'][0]\n",
    "            del All_copy[coin]['price_buy'][0]\n",
    "            del All_copy[coin]['date_buy'][0]\n",
    "            \n",
    "        else:\n",
    "            \n",
    "            amount.append(-All_copy[coin]['amount_sell'][0])\n",
    "        \n",
    "            sell_price.append(np.round(-All_copy[coin]['price_sell'][0],2))\n",
    "            \n",
    "            buyPricePortion = (-All_copy[coin]['price_buy'][0] * \n",
    "                                All_copy[coin]['amount_sell'][0] / All_copy[coin]['amount_buy'][0])\n",
    "            \n",
    "            buy_price.append(np.round(buyPricePortion,2))\n",
    "            \n",
    "            All_copy[coin]['amount_buy'][0] += All_copy[coin]['amount_sell'][0]\n",
    "            All_copy[coin]['price_buy'][0] -= buyPricePortion\n",
    "            \n",
    "            if All_copy[coin]['amount_buy'][0] == 0:\n",
    "                del All_copy[coin]['amount_buy'][0]\n",
    "                del All_copy[coin]['price_buy'][0]\n",
    "                del All_copy[coin]['date_buy'][0]\n",
    "            del All_copy[coin]['amount_sell'][0]\n",
    "            del All_copy[coin]['price_sell'][0]\n",
    "            del All_copy[coin]['date_sell'][0]\n",
    "\n",
    "            \n",
    "result = np.subtract(sell_price, buy_price)\n",
    "profit = result *(result>=0)\n",
    "loss = -result * (result<0)"
   ]
  },
  {
   "cell_type": "code",
   "execution_count": null,
   "id": "670a89fc",
   "metadata": {
    "pycharm": {
     "name": "#%%\n"
    }
   },
   "outputs": [],
   "source": [
    "Report =pd.DataFrame({'Coin': currency,\n",
    "                      'Buy Date': buy_date,\n",
    "                      'Amount':  amount,\n",
    "                      'Buy Price': buy_price,\n",
    "                      'Sell Date': sell_date,\n",
    "                      'Sell Price': sell_price,\n",
    "                      'Loss': loss,\n",
    "                      'Profit': profit})"
   ]
  },
  {
   "cell_type": "code",
   "execution_count": null,
   "id": "3c1a4308",
   "metadata": {
    "pycharm": {
     "name": "#%%\n"
    }
   },
   "outputs": [],
   "source": [
    "Report[\"Buy Date\"] = pd.to_datetime(Report[\"Buy Date\"], format='%m/%d/%Y %H:%M')\n",
    "Report[\"Sell Date\"] = pd.to_datetime(Report[\"Sell Date\"], format='%m/%d/%Y %H:%M')\n",
    "Report = Report.sort_values(by=\"Buy Date\")\n",
    "Report = Report.sort_values(by=\"Sell Date\").reset_index(drop=True)\n",
    "Report = Report[np.logical_and(Report['Buy Price'] != 0, Report['Sell Price'] != 0)].reset_index(drop=True)\n",
    "Report = Report[Report['Sell Date'] <= datetime(2021,12,31,23,59,59)].reset_index(drop=True)"
   ]
  },
  {
   "cell_type": "code",
   "execution_count": null,
   "id": "625911a6",
   "metadata": {
    "pycharm": {
     "name": "#%%\n"
    }
   },
   "outputs": [],
   "source": [
    "Report.to_csv(r'.\\Binance_Report.csv')"
   ]
  },
  {
   "cell_type": "code",
   "execution_count": null,
   "id": "ec0b2829",
   "metadata": {
    "pycharm": {
     "name": "#%%\n"
    }
   },
   "outputs": [],
   "source": [
    "Deposits = Data[Data.Operation == 'Deposit'].reset_index(drop=True).drop(['User_ID', 'Account', 'Remark', 'Unnamed: 0'],axis=1)\n",
    "Deposits['Total Price (EUR)'] = np.round(Deposits['Total Price (EUR)'], 2)\n",
    "Deposits['Fee (EUR)'] = [0.0]*len(Deposits['Total Price (EUR)'])\n",
    "Deposits.iloc[[8, 9, 13, 14], 6] = [0.2, 4.4, 5.57, 13.26]\n",
    "Deposits.columns = ['Date', 'Operation', 'Coin', 'Amount', 'Unit Price (EUR)', 'Total Price (EUR)', 'Fee (EUR)']\n",
    "Deposits[\"Date\"] = pd.to_datetime(Deposits[\"Date\"], format='%m/%d/%Y %H:%M')\n",
    "Deposits = Deposits.sort_values(by=\"Date\").reset_index(drop=True)\n",
    "Deposits = Deposits[Deposits['Date'] <= datetime(2021,12,31,23,59,59)].reset_index(drop=True)\n",
    "Deposits"
   ]
  },
  {
   "cell_type": "code",
   "execution_count": null,
   "id": "5a6c27da",
   "metadata": {
    "pycharm": {
     "name": "#%%\n"
    }
   },
   "outputs": [],
   "source": [
    "Deposits.to_csv(r'.\\Binance_Deposits.csv')"
   ]
  },
  {
   "cell_type": "code",
   "execution_count": null,
   "id": "1548b581",
   "metadata": {
    "pycharm": {
     "name": "#%%\n"
    }
   },
   "outputs": [],
   "source": [
    "Withdraw = Data[Data.Operation.isin(['Withdraw', 'Binance Card Spending'])].reset_index(drop=True).drop(['User_ID', 'Account', 'Unnamed: 0'],axis=1)\n",
    "Withdraw = Withdraw.fillna('No Fee')\n",
    "Withdraw['Total Price (EUR)'] = -np.round(Withdraw['Total Price (EUR)'], 2)\n",
    "Withdraw['Change'] *= -1\n",
    "Withdraw.columns = ['Date', 'Operation', 'Coin', 'Amount', 'Fee (EUR)', 'Unit Price (EUR)', 'Total Price (EUR)']\n",
    "Withdraw = Withdraw [['Date', 'Operation', 'Coin', 'Amount', 'Unit Price (EUR)', 'Total Price (EUR)', 'Fee (EUR)']]\n",
    "Withdraw[\"Date\"] = pd.to_datetime(Withdraw[\"Date\"], format='%m/%d/%Y %H:%M')\n",
    "Withdraw = Withdraw.sort_values(by=\"Date\").reset_index(drop=True)\n",
    "Withdraw = Withdraw[Withdraw['Date'] <= datetime(2021,12,31,23,59,59)].reset_index(drop=True)\n",
    "\n",
    "Withdraw"
   ]
  },
  {
   "cell_type": "code",
   "execution_count": null,
   "id": "9c800f07",
   "metadata": {
    "pycharm": {
     "name": "#%%\n"
    }
   },
   "outputs": [],
   "source": [
    "Withdraw.to_csv(r'.\\Binance_Withdrawals.csv')"
   ]
  },
  {
   "cell_type": "code",
   "execution_count": null,
   "id": "701e2394",
   "metadata": {
    "pycharm": {
     "name": "#%%\n"
    }
   },
   "outputs": [],
   "source": [
    "Fee = Data[Data.Operation.isin(['Fee'])].reset_index(drop=True).drop(['User_ID', 'Account', 'Remark', 'Unnamed: 0'],axis=1)\n",
    "Fee['Total Price (EUR)'] = -np.round(Fee['Total Price (EUR)'], 2)\n",
    "Fee['Change'] *= -1\n",
    "Fee.columns = ['Date', 'Operation', 'Coin', 'Amount', 'Unit Price (EUR)', 'Total Price (EUR)']\n",
    "Fee[\"Date\"] = pd.to_datetime(Fee[\"Date\"], format='%m/%d/%Y %H:%M')\n",
    "Fee = Fee.sort_values(by=\"Date\").reset_index(drop=True)\n",
    "Fee = Fee[Fee['Date'] <= datetime(2021,12,31,23,59,59)].reset_index(drop=True)\n",
    "\n",
    "\n",
    "Fee"
   ]
  },
  {
   "cell_type": "code",
   "execution_count": null,
   "id": "adfeddb8",
   "metadata": {
    "pycharm": {
     "name": "#%%\n"
    }
   },
   "outputs": [],
   "source": [
    "Fee.to_csv(r'.\\Binance_Fees.csv')"
   ]
  },
  {
   "cell_type": "code",
   "execution_count": null,
   "id": "0316d9ea",
   "metadata": {
    "pycharm": {
     "name": "#%%\n"
    }
   },
   "outputs": [],
   "source": [
    "Cashback = Data[Data.Operation.isin(['Card Cashback', 'Commission Rebate', 'Launchpool Interest'])].reset_index(drop=True).drop(['User_ID', 'Account', 'Remark', 'Unnamed: 0'],axis=1)\n",
    "Cashback['Total Price (EUR)'] = np.round(Cashback['Total Price (EUR)'], 2)\n",
    "Cashback['Change'] *= -1\n",
    "Cashback.columns = ['Date', 'Operation', 'Coin', 'Amount', 'Unit Price (EUR)', 'Total Price (EUR)']\n",
    "Cashback[\"Date\"] = pd.to_datetime(Cashback[\"Date\"], format='%m/%d/%Y %H:%M')\n",
    "Cashback = Cashback.sort_values(by=\"Date\").reset_index(drop=True)\n",
    "Cashback = Cashback[Cashback['Date'] <= datetime(2021,12,31,23,59,59)].reset_index(drop=True)\n",
    "\n",
    "Cashback"
   ]
  },
  {
   "cell_type": "code",
   "execution_count": null,
   "id": "6bd6c6ee",
   "metadata": {
    "pycharm": {
     "name": "#%%\n"
    }
   },
   "outputs": [],
   "source": [
    "Cashback.to_csv(r'.\\Binance_Cashbacks.csv')"
   ]
  },
  {
   "cell_type": "code",
   "execution_count": null,
   "id": "0b9fd54e",
   "metadata": {
    "pycharm": {
     "name": "#%%\n"
    }
   },
   "outputs": [],
   "source": [
    "np.unique(Data.Operation)"
   ]
  },
  {
   "cell_type": "code",
   "execution_count": null,
   "id": "e174f6fd",
   "metadata": {
    "pycharm": {
     "name": "#%%\n"
    }
   },
   "outputs": [],
   "source": [
    "sum(profit) + sum(Cashback['Total Price (EUR)']) -sum(loss)-sum(Fee['Total Price (EUR)']) - sum(Deposits['Fee (EUR)'])"
   ]
  },
  {
   "cell_type": "code",
   "execution_count": null,
   "id": "6d801e1a",
   "metadata": {
    "pycharm": {
     "name": "#%%\n"
    }
   },
   "outputs": [],
   "source": [
    "sum(Withdraw['Total Price (EUR)'])-sum(Deposits['Total Price (EUR)'])"
   ]
  },
  {
   "cell_type": "code",
   "execution_count": null,
   "id": "6a4dab58",
   "metadata": {
    "pycharm": {
     "name": "#%%\n"
    }
   },
   "outputs": [],
   "source": [
    "sum(Deposits['Total Price (EUR)'])"
   ]
  },
  {
   "cell_type": "code",
   "execution_count": null,
   "id": "095236bc",
   "metadata": {
    "pycharm": {
     "name": "#%%\n"
    }
   },
   "outputs": [],
   "source": []
  },
  {
   "cell_type": "code",
   "execution_count": null,
   "id": "0fa06328",
   "metadata": {
    "pycharm": {
     "name": "#%%\n"
    }
   },
   "outputs": [],
   "source": [
    "sum(loss)"
   ]
  },
  {
   "cell_type": "code",
   "execution_count": null,
   "id": "df28ab49",
   "metadata": {
    "pycharm": {
     "name": "#%%\n"
    }
   },
   "outputs": [],
   "source": [
    "sum(Fee['Total Price (EUR)']) + sum(Deposits['Fee (EUR)'])"
   ]
  },
  {
   "cell_type": "code",
   "execution_count": null,
   "id": "775a7f41",
   "metadata": {
    "pycharm": {
     "name": "#%%\n"
    }
   },
   "outputs": [],
   "source": [
    "for coin in ALL:\n",
    "    print(coin , ':   ', \"{0:.5f}\".format(sum(ALL[coin]['amount_buy'])))"
   ]
  },
  {
   "cell_type": "markdown",
   "id": "d10f4570",
   "metadata": {
    "pycharm": {
     "name": "#%% md\n"
    }
   },
   "source": [
    "# Etoro"
   ]
  },
  {
   "cell_type": "code",
   "execution_count": null,
   "id": "779e8b26",
   "metadata": {
    "pycharm": {
     "name": "#%%\n"
    }
   },
   "outputs": [],
   "source": [
    "data = pd.read_csv(r'.\\Etoro.csv')"
   ]
  },
  {
   "cell_type": "code",
   "execution_count": null,
   "id": "be7e3689",
   "metadata": {
    "pycharm": {
     "name": "#%%\n"
    }
   },
   "outputs": [],
   "source": [
    "data"
   ]
  },
  {
   "cell_type": "code",
   "execution_count": null,
   "id": "a4549fc1",
   "metadata": {
    "pycharm": {
     "name": "#%%\n"
    }
   },
   "outputs": [],
   "source": [
    "USDEUR = []\n",
    "for i, time in enumerate(data['Open Date']):\n",
    "    USDEUR.append(get_rate(\"USD\", \"EUR\",datetime.strptime(time, '%d/%m/%Y %H:%M:%S')))\n",
    "    print(i, end='\\r')"
   ]
  },
  {
   "cell_type": "code",
   "execution_count": null,
   "id": "a1ad59c8",
   "metadata": {
    "pycharm": {
     "name": "#%%\n"
    }
   },
   "outputs": [],
   "source": [
    "data['Amount (EUR)'] = np.round(USDEUR * data['Amount'],2)"
   ]
  },
  {
   "cell_type": "code",
   "execution_count": null,
   "id": "29c79f0b",
   "metadata": {
    "pycharm": {
     "name": "#%%\n"
    }
   },
   "outputs": [],
   "source": [
    "USDEUR = []\n",
    "for i, time in enumerate(data['Close Date']):\n",
    "    USDEUR.append(get_rate(\"USD\", \"EUR\",datetime.strptime(time, '%d/%m/%Y %H:%M:%S')))\n",
    "    print(i, end='\\r')"
   ]
  },
  {
   "cell_type": "code",
   "execution_count": null,
   "id": "1bc5b52f",
   "metadata": {
    "pycharm": {
     "name": "#%%\n"
    }
   },
   "outputs": [],
   "source": [
    "data['Amount Sell (EUR)'] = np.round((data['Amount'] + data['Profit']) * USDEUR,2)\n",
    "\n",
    "\n",
    "data['Profit (EUR)'] = data['Amount Sell (EUR)'] - data['Amount (EUR)']\n",
    "\n",
    "data['Action'] = [stock.replace('Buy ','') for stock in data['Action']]"
   ]
  },
  {
   "cell_type": "code",
   "execution_count": null,
   "id": "57bcf9d1",
   "metadata": {
    "pycharm": {
     "name": "#%%\n"
    }
   },
   "outputs": [],
   "source": [
    "data.to_csv(r'.\\Etoro EUR.csv')"
   ]
  },
  {
   "cell_type": "code",
   "execution_count": null,
   "id": "e89a3ec5",
   "metadata": {
    "pycharm": {
     "name": "#%%\n"
    }
   },
   "outputs": [],
   "source": [
    "data_buy = data[['Action', 'Units', 'Open Date', 'Type', 'Amount (EUR)', 'Amount']]\n",
    "data_buy.columns = ['Instrument', 'Units', 'Date', 'Type', 'Total Price (EUR)', 'Total Price (USD)']\n",
    "data_buy['Action'] = ['Buy']*len(data_buy.Instrument)\n",
    "\n",
    "\n",
    "data_sell = data[['Action', 'Units', 'Close Date', 'Type', 'Amount Sell (EUR)']]\n",
    "data_sell.columns = ['Instrument', 'Units', 'Date', 'Type', 'Total Price (EUR)']\n",
    "data_sell['Total Price (USD)'] = data['Amount'] + data['Profit']\n",
    "data_sell['Action'] = ['Sell']*len(data_sell.Instrument)\n",
    "\n",
    "data = pd.concat([data_buy, data_sell], axis=0)\n",
    "\n",
    "data = data[['Type', 'Action', 'Instrument', 'Units', 'Date', 'Total Price (EUR)', 'Total Price (USD)']]"
   ]
  },
  {
   "cell_type": "code",
   "execution_count": null,
   "id": "7558ac84",
   "metadata": {
    "pycharm": {
     "name": "#%%\n"
    }
   },
   "outputs": [],
   "source": [
    "data[\"Date\"] = pd.to_datetime(data[\"Date\"], format='%d/%m/%Y %H:%M:%S')\n",
    "data = data.sort_values(by=\"Date\")\n",
    "\n",
    "data.to_csv(r'.\\Etoro Buy Sell EUR.csv')"
   ]
  },
  {
   "cell_type": "code",
   "execution_count": null,
   "id": "d673b620",
   "metadata": {
    "pycharm": {
     "name": "#%%\n"
    }
   },
   "outputs": [],
   "source": [
    "uniqueInstruments = np.unique(data.Instrument)\n",
    "uniqueInstruments"
   ]
  },
  {
   "cell_type": "code",
   "execution_count": null,
   "id": "55dde25c",
   "metadata": {
    "pycharm": {
     "name": "#%%\n"
    }
   },
   "outputs": [],
   "source": [
    "ALL ={}\n",
    "\n",
    "for instrument in uniqueInstruments:\n",
    "    ALL[instrument] ={'amount_buy': data['Units'][(data.Instrument==instrument) & (data.Action == 'Buy')].to_list(),\n",
    "                      'date_buy': data['Date'][(data.Instrument==instrument) & (data.Action == 'Buy')].to_list(),\n",
    "                      'price_buy': data['Total Price (EUR)'][(data.Instrument==instrument) & (data.Action == 'Buy')].to_list(),\n",
    "                      'amount_sell': (-data['Units'][(data.Instrument==instrument) & (data.Action == 'Sell')]).to_list(),\n",
    "                      'date_sell': data['Date'][(data.Instrument==instrument) & (data.Action == 'Sell')].to_list(),\n",
    "                      'price_sell': (-data['Total Price (EUR)'][(data.Instrument==instrument) & (data.Action == 'Sell')]).to_list()}"
   ]
  },
  {
   "cell_type": "code",
   "execution_count": null,
   "id": "1be3edcb",
   "metadata": {
    "pycharm": {
     "name": "#%%\n"
    }
   },
   "outputs": [],
   "source": [
    "All_copy = ALL.copy()\n",
    "\n",
    "buy_date = []\n",
    "amount = []\n",
    "sell_date = []\n",
    "buy_price = []\n",
    "sell_price = []\n",
    "stock = []\n",
    "profit = []\n",
    "loss = []\n",
    "result = []\n",
    "for instrument in uniqueInstruments:\n",
    "    while (len(All_copy[instrument]['amount_buy']) != 0) and (len(All_copy[instrument]['amount_sell']) != 0):\n",
    "        buy_date.append(All_copy[instrument]['date_buy'][0])\n",
    "        sell_date.append(All_copy[instrument]['date_sell'][0])\n",
    "        stock.append(instrument)\n",
    "        if All_copy[instrument]['amount_buy'][0] <= abs(All_copy[instrument]['amount_sell'][0]):\n",
    "            \n",
    "            amount.append(All_copy[instrument]['amount_buy'][0])\n",
    "        \n",
    "            buy_price.append(np.round(All_copy[instrument]['price_buy'][0],2))\n",
    "            \n",
    "            sellPricePortion = (All_copy[instrument]['price_sell'][0] * \n",
    "                                All_copy[instrument]['amount_buy'][0] / All_copy[instrument]['amount_sell'][0])\n",
    "            \n",
    "            sell_price.append(np.round(sellPricePortion,2))\n",
    "            \n",
    "            All_copy[instrument]['amount_sell'][0] += All_copy[instrument]['amount_buy'][0]\n",
    "            All_copy[instrument]['price_sell'][0] += sellPricePortion\n",
    "            \n",
    "            if All_copy[instrument]['amount_sell'][0] == 0:\n",
    "                del All_copy[instrument]['amount_sell'][0]\n",
    "                del All_copy[instrument]['price_sell'][0]\n",
    "                del All_copy[instrument]['date_sell'][0]\n",
    "            del All_copy[instrument]['amount_buy'][0]\n",
    "            del All_copy[instrument]['price_buy'][0]\n",
    "            del All_copy[instrument]['date_buy'][0]\n",
    "            \n",
    "        else:\n",
    "            \n",
    "            amount.append(-All_copy[instrument]['amount_sell'][0])\n",
    "        \n",
    "            sell_price.append(np.round(-All_copy[instrument]['price_sell'][0],2))\n",
    "            \n",
    "            buyPricePortion = (-All_copy[instrument]['price_buy'][0] * \n",
    "                                All_copy[instrument]['amount_sell'][0] / All_copy[instrument]['amount_buy'][0])\n",
    "            \n",
    "            buy_price.append(np.round(buyPricePortion,2))\n",
    "            \n",
    "            All_copy[instrument]['amount_buy'][0] += All_copy[instrument]['amount_sell'][0]\n",
    "            All_copy[instrument]['price_buy'][0] -= buyPricePortion\n",
    "            \n",
    "            if All_copy[instrument]['amount_buy'][0] == 0:\n",
    "                del All_copy[instrument]['amount_buy'][0]\n",
    "                del All_copy[instrument]['price_buy'][0]\n",
    "                del All_copy[instrument]['date_buy'][0]\n",
    "            del All_copy[instrument]['amount_sell'][0]\n",
    "            del All_copy[instrument]['price_sell'][0]\n",
    "            del All_copy[instrument]['date_sell'][0]\n",
    "\n",
    "            \n",
    "result = np.subtract(sell_price, buy_price)\n",
    "profit = abs(result *(result>=0))\n",
    "loss = abs(result * (result<0))"
   ]
  },
  {
   "cell_type": "code",
   "execution_count": null,
   "id": "4ea82aba",
   "metadata": {
    "pycharm": {
     "name": "#%%\n"
    }
   },
   "outputs": [],
   "source": [
    "Report =pd.DataFrame({'Stock': stock,\n",
    "                      'Buy Date': buy_date,\n",
    "                      'Amount':  amount,\n",
    "                      'Buy Price': buy_price,\n",
    "                      'Sell Date': sell_date,\n",
    "                      'Sell Price': sell_price,\n",
    "                      'Loss': loss,\n",
    "                      'Profit': profit})"
   ]
  },
  {
   "cell_type": "code",
   "execution_count": null,
   "id": "f4f70d34",
   "metadata": {
    "pycharm": {
     "name": "#%%\n"
    }
   },
   "outputs": [],
   "source": [
    "Report = Report.sort_values(by=\"Buy Date\")\n",
    "Report = Report.sort_values(by=\"Sell Date\").reset_index(drop=True)\n",
    "Report = Report[np.logical_and(Report['Buy Price'] != 0, Report['Sell Price'] != 0)].reset_index(drop=True)"
   ]
  },
  {
   "cell_type": "code",
   "execution_count": null,
   "id": "a906886f",
   "metadata": {
    "pycharm": {
     "name": "#%%\n"
    }
   },
   "outputs": [],
   "source": [
    "Report.to_csv(r'.\\Etoro Report.csv')"
   ]
  },
  {
   "cell_type": "code",
   "execution_count": null,
   "id": "83f02093",
   "metadata": {
    "pycharm": {
     "name": "#%%\n"
    }
   },
   "outputs": [],
   "source": [
    "Stocks = np.unique(data.Instrument[data.Type=='Stocks'])\n",
    "Cryptos = np.unique(data.Instrument[data.Type=='Crypto'])"
   ]
  },
  {
   "cell_type": "code",
   "execution_count": null,
   "id": "05db7383",
   "metadata": {
    "pycharm": {
     "name": "#%%\n"
    }
   },
   "outputs": [],
   "source": [
    "Report2020 = Report[Report['Sell Date'] <= datetime(2020,12,31,23,59,59)].reset_index(drop=True)\n",
    "Report2021 = Report[Report['Sell Date'] > datetime(2020,12,31,23,59,59)].reset_index(drop=True)"
   ]
  },
  {
   "cell_type": "code",
   "execution_count": null,
   "id": "22aecb81",
   "metadata": {
    "pycharm": {
     "name": "#%%\n"
    }
   },
   "outputs": [],
   "source": [
    "Report_Stock = Report2021[Report2021.Stock.isin(Stocks)].reset_index(drop=True)"
   ]
  },
  {
   "cell_type": "code",
   "execution_count": null,
   "id": "2303f76c",
   "metadata": {
    "pycharm": {
     "name": "#%%\n"
    }
   },
   "outputs": [],
   "source": [
    "Report_Crypto = Report2021[Report2021.Stock.isin(Cryptos)].reset_index(drop=True)\n"
   ]
  },
  {
   "cell_type": "code",
   "execution_count": null,
   "id": "e108e876",
   "metadata": {
    "pycharm": {
     "name": "#%%\n"
    }
   },
   "outputs": [],
   "source": [
    "Report2020.to_csv(r'.\\Etoro Report 2020.csv')\n",
    "\n",
    "Report_Stock.to_csv(r'.\\Etoro Stock Report 2021.csv')\n",
    "Report_Crypto.to_csv(r'.\\Etoro Crypto Report 2021.csv')\n"
   ]
  },
  {
   "cell_type": "markdown",
   "id": "f3d0d01c",
   "metadata": {
    "pycharm": {
     "name": "#%% md\n"
    }
   },
   "source": [
    "# Crypto.com"
   ]
  },
  {
   "cell_type": "code",
   "execution_count": null,
   "id": "61345029",
   "metadata": {
    "pycharm": {
     "name": "#%%\n"
    }
   },
   "outputs": [],
   "source": [
    "data = pd.read_csv(r'.\\crypto_com.csv')"
   ]
  },
  {
   "cell_type": "code",
   "execution_count": null,
   "id": "85bbb53b",
   "metadata": {
    "pycharm": {
     "name": "#%%\n"
    }
   },
   "outputs": [],
   "source": [
    "Cashbacks = data[data['Transaction Description'].isin(['CRO Stake Rewards', 'Card Cashback', 'Card Cashback Reversal', 'Card Rebate Reversal: Netflix', \n",
    "'Card Rebate: Netflix', 'Card Rebate: Spotify', 'Referral Bonus Reward', 'Sign-up Bonus Unlocked', 'Supercharger Reward'])].reset_index(drop=True)\n",
    "\n",
    "Cashbacks = Cashbacks.drop(['To Currency', 'To Amount'],axis=1)\n",
    "Cashbacks\n",
    "\n"
   ]
  },
  {
   "cell_type": "code",
   "execution_count": null,
   "id": "d7215f7d",
   "metadata": {
    "pycharm": {
     "name": "#%%\n"
    }
   },
   "outputs": [],
   "source": [
    "sum(Cashbacks['Native Amount (EUR)'])"
   ]
  },
  {
   "cell_type": "code",
   "execution_count": null,
   "id": "556e0bf2",
   "metadata": {
    "pycharm": {
     "name": "#%%\n"
    }
   },
   "outputs": [],
   "source": [
    "Cashbacks.to_csv(r'.\\Crypto Cashback.csv')"
   ]
  },
  {
   "cell_type": "code",
   "execution_count": null,
   "id": "0e0abbcd",
   "metadata": {
    "pycharm": {
     "name": "#%%\n"
    }
   },
   "outputs": [],
   "source": [
    "data = data[np.logical_not(data['Transaction Description'].isin(['From +358504077653', 'Supercharger Deposit (via app)']))].reset_index(drop=True)\n",
    "\n",
    "data1 = data[['Timestamp (UTC)', 'Transaction Description', 'Currency', 'Amount', 'Native Amount (EUR)']].reset_index(drop=True)\n",
    "data1.columns = ['UTC_Time', 'Transaction Description', 'Coin', 'Change', 'Total Price (EUR)']\n",
    "\n",
    "data2 = data[['Timestamp (UTC)', 'Transaction Description', 'To Currency', 'To Amount', 'Native Amount (EUR)']]\n",
    "data2.columns = ['UTC_Time', 'Transaction Description', 'Coin', 'Change', 'Total Price (EUR)']\n",
    "data2 = data2[np.logical_not(data2.Change.isna())].reset_index(drop=True)\n",
    "\n",
    "data = pd.concat([data1, data2], axis=0).reset_index(drop=True)\n",
    "data = data[np.logical_not(data['Transaction Description'].isin(['CRO Stake', 'Supercharger Deposit (via app)', \n",
    "                                                                 'Supercharger Withdrawal (via app)', 'Card Cashback Reversal',\n",
    "                                                                 'Supercharger Stake (via app)']))].reset_index(drop=True)\n",
    "\n",
    "data[\"UTC_Time\"] = pd.to_datetime(data[\"UTC_Time\"], format='%m/%d/%Y %H:%M')\n",
    "data = data.sort_values(by=\"UTC_Time\")\n",
    "\n",
    "data.to_csv(r'.\\Etoro Buy Sell EUR.csv')\n",
    "\n",
    "\n",
    "data"
   ]
  },
  {
   "cell_type": "code",
   "execution_count": null,
   "id": "e65a022b",
   "metadata": {
    "pycharm": {
     "name": "#%%\n"
    }
   },
   "outputs": [],
   "source": [
    "uniqueCoins = np.unique(data.Coin)\n",
    "uniqueCoins"
   ]
  },
  {
   "cell_type": "code",
   "execution_count": null,
   "id": "e7389f0e",
   "metadata": {
    "pycharm": {
     "name": "#%%\n"
    }
   },
   "outputs": [],
   "source": [
    "ALL ={}\n",
    "\n",
    "for coin in uniqueCoins:\n",
    "    ALL[coin] ={'amount_buy': data['Change'][(data.Coin==coin) & (data.Change>0)].to_list(),\n",
    "                'date_buy': data['UTC_Time'][(data.Coin==coin) & (data.Change>0)].to_list(),\n",
    "                'price_buy': data['Total Price (EUR)'][(data.Coin==coin) & (data.Change>0)].to_list(),\n",
    "                'amount_sell': data['Change'][(data.Coin==coin) & (data.Change<0)].to_list(),\n",
    "                'date_sell': data['UTC_Time'][(data.Coin==coin) & (data.Change<0)].to_list(),\n",
    "                'price_sell': (-data['Total Price (EUR)'][(data.Coin==coin) & (data.Change<0)]).to_list()}"
   ]
  },
  {
   "cell_type": "code",
   "execution_count": null,
   "id": "863a1c67",
   "metadata": {
    "pycharm": {
     "name": "#%%\n"
    }
   },
   "outputs": [],
   "source": [
    "ALL"
   ]
  },
  {
   "cell_type": "code",
   "execution_count": null,
   "id": "f970cf5e",
   "metadata": {
    "pycharm": {
     "name": "#%%\n"
    }
   },
   "outputs": [],
   "source": [
    "All_copy = ALL.copy()\n",
    "\n",
    "buy_date = []\n",
    "amount = []\n",
    "sell_date = []\n",
    "buy_price = []\n",
    "sell_price = []\n",
    "currency = []\n",
    "profit = []\n",
    "loss = []\n",
    "result = []\n",
    "for coin in uniqueCoins:\n",
    "    while (len(All_copy[coin]['amount_buy']) != 0) and (len(All_copy[coin]['amount_sell']) != 0):\n",
    "        buy_date.append(All_copy[coin]['date_buy'][0])\n",
    "        sell_date.append(All_copy[coin]['date_sell'][0])\n",
    "        currency.append(coin)\n",
    "        if All_copy[coin]['amount_buy'][0] <= abs(All_copy[coin]['amount_sell'][0]):\n",
    "            \n",
    "            amount.append(All_copy[coin]['amount_buy'][0])\n",
    "        \n",
    "            buy_price.append(np.round(All_copy[coin]['price_buy'][0],2))\n",
    "            \n",
    "            sellPricePortion = (All_copy[coin]['price_sell'][0] * \n",
    "                                All_copy[coin]['amount_buy'][0] / All_copy[coin]['amount_sell'][0])\n",
    "            \n",
    "            sell_price.append(np.round(sellPricePortion,2))\n",
    "            \n",
    "            All_copy[coin]['amount_sell'][0] += All_copy[coin]['amount_buy'][0]\n",
    "            All_copy[coin]['price_sell'][0] += sellPricePortion\n",
    "            \n",
    "            if All_copy[coin]['amount_sell'][0] == 0:\n",
    "                del All_copy[coin]['amount_sell'][0]\n",
    "                del All_copy[coin]['price_sell'][0]\n",
    "                del All_copy[coin]['date_sell'][0]\n",
    "            del All_copy[coin]['amount_buy'][0]\n",
    "            del All_copy[coin]['price_buy'][0]\n",
    "            del All_copy[coin]['date_buy'][0]\n",
    "            \n",
    "        else:\n",
    "            \n",
    "            amount.append(-All_copy[coin]['amount_sell'][0])\n",
    "        \n",
    "            sell_price.append(np.round(-All_copy[coin]['price_sell'][0],2))\n",
    "            \n",
    "            buyPricePortion = (-All_copy[coin]['price_buy'][0] * \n",
    "                                All_copy[coin]['amount_sell'][0] / All_copy[coin]['amount_buy'][0])\n",
    "            \n",
    "            buy_price.append(np.round(buyPricePortion,2))\n",
    "            \n",
    "            All_copy[coin]['amount_buy'][0] += All_copy[coin]['amount_sell'][0]\n",
    "            All_copy[coin]['price_buy'][0] -= buyPricePortion\n",
    "            \n",
    "            if All_copy[coin]['amount_buy'][0] == 0:\n",
    "                del All_copy[coin]['amount_buy'][0]\n",
    "                del All_copy[coin]['price_buy'][0]\n",
    "                del All_copy[coin]['date_buy'][0]\n",
    "            del All_copy[coin]['amount_sell'][0]\n",
    "            del All_copy[coin]['price_sell'][0]\n",
    "            del All_copy[coin]['date_sell'][0]\n",
    "\n",
    "            \n",
    "result = np.subtract(sell_price, buy_price)\n",
    "profit = result *(result>=0)\n",
    "loss = -result * (result<0)"
   ]
  },
  {
   "cell_type": "code",
   "execution_count": null,
   "id": "0752240e",
   "metadata": {
    "pycharm": {
     "name": "#%%\n"
    }
   },
   "outputs": [],
   "source": [
    "Report =pd.DataFrame({'Coin': currency,\n",
    "                      'Buy Date': buy_date,\n",
    "                      'Amount':  amount,\n",
    "                      'Buy Price': buy_price,\n",
    "                      'Sell Date': sell_date,\n",
    "                      'Sell Price': sell_price,\n",
    "                      'Loss': loss,\n",
    "                      'Profit': profit})"
   ]
  },
  {
   "cell_type": "code",
   "execution_count": null,
   "id": "49e82f3d",
   "metadata": {
    "pycharm": {
     "name": "#%%\n"
    }
   },
   "outputs": [],
   "source": [
    "Report[\"Buy Date\"] = pd.to_datetime(Report[\"Buy Date\"], format='%m/%d/%Y %H:%M')\n",
    "Report[\"Sell Date\"] = pd.to_datetime(Report[\"Sell Date\"], format='%m/%d/%Y %H:%M')\n",
    "Report = Report.sort_values(by=\"Buy Date\")\n",
    "Report = Report.sort_values(by=\"Sell Date\").reset_index(drop=True)\n",
    "Report = Report[np.logical_and(Report['Buy Price'] != 0, Report['Sell Price'] != 0)].reset_index(drop=True)"
   ]
  },
  {
   "cell_type": "code",
   "execution_count": null,
   "id": "09cb72ef",
   "metadata": {
    "pycharm": {
     "name": "#%%\n"
    }
   },
   "outputs": [],
   "source": [
    "Report.to_csv(r'.\\Crypto Report.csv')"
   ]
  },
  {
   "cell_type": "code",
   "execution_count": null,
   "id": "84a67567",
   "metadata": {
    "pycharm": {
     "name": "#%%\n"
    }
   },
   "outputs": [],
   "source": [
    "ALL"
   ]
  },
  {
   "cell_type": "code",
   "execution_count": null,
   "id": "8ea1b332",
   "metadata": {
    "pycharm": {
     "name": "#%%\n"
    }
   },
   "outputs": [],
   "source": [
    "for coin in ALL:\n",
    "    print(coin , ':   ', \"{0:.5f}\".format(sum(ALL[coin]['amount_buy'])))"
   ]
  },
  {
   "cell_type": "code",
   "execution_count": null,
   "id": "33527fd0",
   "metadata": {
    "pycharm": {
     "name": "#%%\n"
    }
   },
   "outputs": [],
   "source": [
    "sum(profit) + sum(Cashback['Total Price (EUR)']) -sum(loss)-sum(Fee['Total Price (EUR)']) - sum(Deposits['Fee (EUR)'])"
   ]
  },
  {
   "cell_type": "code",
   "execution_count": null,
   "id": "bb15d73d",
   "metadata": {
    "pycharm": {
     "name": "#%%\n"
    }
   },
   "outputs": [],
   "source": [
    "sum(Withdraw['Total Price (EUR)'])-sum(Deposits['Total Price (EUR)'])"
   ]
  },
  {
   "cell_type": "code",
   "execution_count": null,
   "id": "673dea14",
   "metadata": {
    "pycharm": {
     "name": "#%%\n"
    }
   },
   "outputs": [],
   "source": [
    "sum(Deposits['Total Price (EUR)'])"
   ]
  },
  {
   "cell_type": "code",
   "execution_count": null,
   "id": "6234af6e",
   "metadata": {
    "pycharm": {
     "name": "#%%\n"
    }
   },
   "outputs": [],
   "source": []
  },
  {
   "cell_type": "code",
   "execution_count": null,
   "id": "638ba283",
   "metadata": {
    "pycharm": {
     "name": "#%%\n"
    }
   },
   "outputs": [],
   "source": [
    "sum(loss)"
   ]
  },
  {
   "cell_type": "code",
   "execution_count": null,
   "id": "7356db95",
   "metadata": {
    "pycharm": {
     "name": "#%%\n"
    }
   },
   "outputs": [],
   "source": [
    "sum(Fee['Total Price (EUR)']) + sum(Deposits['Fee (EUR)'])"
   ]
  },
  {
   "cell_type": "code",
   "execution_count": null,
   "id": "ad78a813",
   "metadata": {
    "pycharm": {
     "name": "#%%\n"
    }
   },
   "outputs": [],
   "source": [
    "for coin in ALL:\n",
    "    print(coin , ':   ', \"{0:.5f}\".format(sum(ALL[coin]['amount_buy'])))"
   ]
  }
 ],
 "metadata": {
  "kernelspec": {
   "display_name": "Python 3 (ipykernel)",
   "language": "python",
   "name": "python3"
  },
  "language_info": {
   "codemirror_mode": {
    "name": "ipython",
    "version": 3
   },
   "file_extension": ".py",
   "mimetype": "text/x-python",
   "name": "python",
   "nbconvert_exporter": "python",
   "pygments_lexer": "ipython3",
   "version": "3.10.4"
  }
 },
 "nbformat": 4,
 "nbformat_minor": 5
}
